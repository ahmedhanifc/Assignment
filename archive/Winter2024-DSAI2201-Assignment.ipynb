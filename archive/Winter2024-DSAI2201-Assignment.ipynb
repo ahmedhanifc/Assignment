{
 "cells": [
  {
   "cell_type": "markdown",
   "id": "7e2dbec8",
   "metadata": {
    "id": "_82bPl2CjLgM"
   },
   "source": [
    "# DSAI 2201 Winter 2024 Assignment"
   ]
  },
  {
   "cell_type": "code",
   "execution_count": 1,
   "id": "cf3a8465",
   "metadata": {
    "id": "lCa7M9GTXoGn"
   },
   "outputs": [],
   "source": [
    "NAME = \"Write your name her\"\n",
    "\n",
    "COLLABORATORS = \"\""
   ]
  },
  {
   "cell_type": "markdown",
   "id": "f3200230",
   "metadata": {
    "id": "ahvYdmy4XoGp"
   },
   "source": [
    "## Assignment 1 - Data Analysis\n",
    "**(20 points in total)**"
   ]
  },
  {
   "cell_type": "markdown",
   "id": "975c05cf",
   "metadata": {
    "id": "KuYy3ZSiXoGp"
   },
   "source": [
    "In Assignments part 1 & part 2 we will go through the entire journey of a small data science project.\n",
    "\n",
    "More details about the dataset can be found in the Kaggle website in the following links: https://www.kaggle.com/datasets/reihanenamdari/breast-cancer\n",
    "\n",
    "But a modified version of the dataset was attached in the dropbox, please use it to answer this assignment\n",
    "     \n",
    "\n"
   ]
  },
  {
   "cell_type": "markdown",
   "id": "070cd7fe",
   "metadata": {
    "id": "6Q5elKfTXoGq"
   },
   "source": [
    "**Question 1.**  _(2 points)_\n",
    "* A) Analyze the distribution of death events cases among the patients and the race. calculate their respective numbers and percentages.  _(0.5 points)_\n",
    "* B) Compute descriptive statistics of the data. Comment on the results.  _(0.75 points)_\n",
    "* C) Analyze the skew and the kurtosis of medical variables distributions(Numbers & Graphs). Comment on the results.  _(0.75  points)_\n",
    "\n",
    "**Question 2.**  _(2 points)_\n",
    "* Use univariate plots  to analyze patterns in each of the medical variables with respect to the outcome (death status). What categories of patients( race and marital status) were most likely to die from breast cancer? . (2 points)\n",
    "\n",
    "\n",
    "**Question 3.**  _(2 points)_\n",
    "* Use multivariate plots to:\n",
    "   * A) Analyze the relationship between medical variables. Comment on the results  _(1 points)_\n",
    "   * B) Identify potential factors that can predict Death event in married patients. Comment on the results.  _(1 points)_\n",
    "\n",
    "**Question 4.**  _(3 points)_\n",
    "* Identify and remove any outliers in the medical variables. Explain the rationale for identifying and removing outliers.  _(3 points)_\n",
    "\n",
    "**Question 5.**  _(3 points)_\n",
    "* How did you treat missing values for the attributes that you included in the analysis ? Provide a detailed explanation in the comments._(3 points)_\n",
    "\n",
    "**Question 6.**  _(3 points)_\n",
    "* The dataset contains  contains alot of zeros, identify which attributes cannot be 0 medically speaking, and impute them, while explaining the rational behind it._(3 points)_\n",
    "\n",
    "\n",
    "**Question 7.**  _(2 points)_\n",
    "* Identify the attibutes that will need rescalling ( with explanation ), apply one of the rescalling techniques we have seen in our course and explain your rational. _(2 points)_\n",
    "\n",
    "**Question 8.**  _(3 points)_\n",
    "* Through an extensive research, provide additional attributes that you can create that will enhance your dataset, explain the logic behind it, and add them to your data, _(1.5 points)_\n",
    "* identify the most irrelevant attribute(s), and exclude them from your project for the next steps  _(1.5 points)_"
   ]
  },
  {
   "cell_type": "markdown",
   "id": "27016452",
   "metadata": {
    "id": "27016452"
   },
   "source": [
    "# Assignment 2 - Machine Learning Models for Prediction\n",
    "**(15 points total)**\n",
    "\n",
    " \n",
    "* In **Assignment 1**, we have explored the data, cleaned up the data, modified features, and created new ones. \n",
    "* In **Assignment 2**, we will apply supervised machine learning models for classification and regression, evaluate its performance, and identify the best models to solve the following problems: \n",
    "\n",
    "    * The **classification problem** is: given a train dataset of patients who survived or did not survive, build a model which can determine based on a given test dataset not containing the death event information information, if these patients in the test dataset survived or not. \n",
    "\n",
    "    * The **regression problem** is: predict the number of months that remains for the survival of the patient.\n",
    "\n"
   ]
  },
  {
   "cell_type": "markdown",
   "id": "2e88a11a",
   "metadata": {
    "id": "2e88a11a"
   },
   "source": [
    "**Question 1. (Data preparation)**  _(2 points)_\n",
    "* List the relevant features which you will use for classification and explain your answer (*a relevant feature is a feature that can have an impact on the chance of survival of the patient*).\n",
    "* List the relevant features which you will use for regression and explain your answer (*a relevant feature is a feature that can have an impact on the prediction of the number of remaining survival months of the patient*).\n",
    "* Divide both your datasets into a training set (70%) and a testing set (30%). All models will be trained and tested on the same splits.\n",
    "    \n",
    "\n",
    "\n",
    "\n"
   ]
  },
  {
   "cell_type": "markdown",
   "id": "551f1682",
   "metadata": {},
   "source": [
    "###  Data Preparation & Spliting for the Classification Model"
   ]
  },
  {
   "cell_type": "markdown",
   "id": "6fab776c",
   "metadata": {},
   "source": [
    "###  Data Preparation & Spliting for the Regression Model"
   ]
  },
  {
   "cell_type": "markdown",
   "id": "25c431c5",
   "metadata": {},
   "source": [
    "**Question 2. (Classification models)**  _(3 points)_\n",
    "* Train three different classification models of your choice using the training set. Explain the rationale behind selecting each of these three algorithms. You may refer to the following guidlines for model selection: \n",
    "    * Diagram from scikit-learn: https://scikit-learn.org/stable/tutorial/machine_learning_map/\n",
    "    * Models comparison table: https://docs.google.com/spreadsheets/d/16i47Wmjpj8k-mFRk-NnXXU5tmSQz8h37YxluDV8Zy9U/edit#gid=0\n",
    "\n"
   ]
  },
  {
   "cell_type": "markdown",
   "id": "336ed144",
   "metadata": {},
   "source": [
    "**Question 3. (Evaluation of classification models)**  _(3 points)_\n",
    "* Evaluate the performance of your three classification models on the testing set using the following metrics: accuracy, area under the curve (AUC), precision, and recall.\n",
    "* Based on the models evaluation results, what is the best model and why?\n",
    "\n",
    "\n"
   ]
  },
  {
   "cell_type": "markdown",
   "id": "1acfce0f",
   "metadata": {},
   "source": [
    "**Question 4. (Regression models)**  _(3 points)_\n",
    "* Train two different regression models of your choice using the training set. Explain the rationale behind selecting each of these two algorithms. \n",
    "\n"
   ]
  },
  {
   "cell_type": "markdown",
   "id": "67df3da6",
   "metadata": {},
   "source": [
    "**Question 5. (Evaluation of regression models)**  _(3 points)_\n",
    "* Evaluate the performance of your two regression models on the testing set using the following metrics: mean absolute error,mean squared error, and R-square.\n",
    "* Based on the models evaluation results, what is the best model and why?\n",
    "\n"
   ]
  },
  {
   "cell_type": "markdown",
   "id": "3fedebbf",
   "metadata": {},
   "source": [
    "**Question 6. (Possible improvements)** _(1 points)_\n",
    "* How can you improve the accuracy of your classification model?\n",
    "* How can you improve the accuracy of your regression model?"
   ]
  }
 ],
 "metadata": {
  "kernelspec": {
   "display_name": "Python 3 (ipykernel)",
   "language": "python",
   "name": "python3"
  },
  "language_info": {
   "codemirror_mode": {
    "name": "ipython",
    "version": 3
   },
   "file_extension": ".py",
   "mimetype": "text/x-python",
   "name": "python",
   "nbconvert_exporter": "python",
   "pygments_lexer": "ipython3",
   "version": "3.12.0"
  }
 },
 "nbformat": 4,
 "nbformat_minor": 5
}
